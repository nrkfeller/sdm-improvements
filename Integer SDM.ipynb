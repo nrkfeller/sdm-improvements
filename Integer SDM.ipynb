{
 "cells": [
  {
   "cell_type": "code",
   "execution_count": 7,
   "metadata": {
    "collapsed": false
   },
   "outputs": [],
   "source": [
    "import numpy as np\n",
    "from math import log\n",
    "import random\n",
    "import statistics"
   ]
  },
  {
   "cell_type": "code",
   "execution_count": 77,
   "metadata": {
    "collapsed": true
   },
   "outputs": [],
   "source": [
    "DIMENSIONS = 1000\n",
    "CRANGE  =16"
   ]
  },
  {
   "cell_type": "code",
   "execution_count": 65,
   "metadata": {
    "collapsed": false
   },
   "outputs": [],
   "source": [
    "class Hardlocation():\n",
    "    \n",
    "    def __init__(self, address):\n",
    "        self.address = address\n",
    "        self.counterGroups = [ CounterGroup() for i in range(DIMENSIONS) ]\n",
    "        self.createHL()\n",
    "        \n",
    "    def createHL(self):\n",
    "        for i in range(0,len(self.address)):\n",
    "            c = self.address[i]\n",
    "            self.counterGroups[i].counters[c].increment()\n",
    "            \n",
    "    def distance(self, otherHL):\n",
    "        \n",
    "        def manDist(idx_1, idx_2):\n",
    "            i = (idx_1 - idx_2) % CRANGE\n",
    "            j = (idx_2 - idx_1) % CRANGE\n",
    "            return min(i, j)\n",
    "    \n",
    "        totalDistance = 0\n",
    "        for i in range(0, len(self.address)):\n",
    "            totalDistance += manDist(self.address[i], otherHL.address[i])\n",
    "        return totalDistance\n",
    "            \n",
    "    def readHL(self):\n",
    "        pass\n",
    "    \n",
    "    def writeHL(self):\n",
    "        pass\n",
    "    \n",
    "    def __str__(self):\n",
    "        return str(self.address)\n",
    "    \n",
    "    \n",
    "        \n",
    "class CounterGroup():\n",
    "    \n",
    "    def __init__(self):\n",
    "        self.counters = [ Counter() for i in range(CRANGE) ]        \n",
    "        \n",
    "class Counter():\n",
    "    def __init__(self, value = 0):\n",
    "        self.value = value\n",
    "        \n",
    "    def increment(self):\n",
    "        self.value = (self.value + 1) % CRANGE\n",
    "        \n",
    "class MemorySpace():\n",
    "    \n",
    "    def __init__(self, numberOfHardLocations):\n",
    "        self.allHL = []\n",
    "        self.createRandomHL(numberOfHardLocations)\n",
    "        \n",
    "    def createRandomHL(self, numberOfHardLocations):\n",
    "        for i in range(0, numberOfHardLocations):\n",
    "            newAddress = np.random.randint(CRANGE, size=DIMENSIONS)\n",
    "            newHL = Hardlocation(newAddress)\n",
    "            self.allHL.append(newHL)"
   ]
  },
  {
   "cell_type": "code",
   "execution_count": 74,
   "metadata": {
    "collapsed": true
   },
   "outputs": [],
   "source": [
    "def getNeighbors(address, memoryspace):\n",
    "    \n",
    "    neighbors = []\n",
    "    \n",
    "    for HL in memoryspace.allHL:\n",
    "        dist = address.distance(HL)\n",
    "        if dist < 3875:\n",
    "            neighbors.append(HL)\n",
    "    \n",
    "    return neighbors"
   ]
  },
  {
   "cell_type": "code",
   "execution_count": 111,
   "metadata": {
    "collapsed": true
   },
   "outputs": [],
   "source": [
    "def write(writeHL, memoryspace):\n",
    "    \n",
    "    neighbors = getNeighbors(writeHL, memoryspace)\n",
    "    \n",
    "    for index in range(DIMENSIONS):\n",
    "        val = writeHL.address[index]\n",
    "        for hl in neighbors:\n",
    "            hl.counterGroups[index].counters[val].increment()"
   ]
  },
  {
   "cell_type": "code",
   "execution_count": 97,
   "metadata": {
    "collapsed": true
   },
   "outputs": [],
   "source": [
    "def read(readHL, memoryspace):\n",
    "    \n",
    "    neighbors = getNeighbors(readHL, memoryspace)\n",
    "    \n",
    "    readValues = []\n",
    "\n",
    "    for index in range(DIMENSIONS):\n",
    "        counterSums = [0]*CRANGE\n",
    "        for hl in neighbors:\n",
    "            for k in range(CRANGE):\n",
    "                counterSums[k] += hl.counterGroups[index].counters[k].value\n",
    "        readValues.append(counterSums.index(max(counterSums)))\n",
    "    \n",
    "    return readValues"
   ]
  },
  {
   "cell_type": "code",
   "execution_count": 11,
   "metadata": {
    "collapsed": false
   },
   "outputs": [],
   "source": [
    "MS = MemorySpace(1000)"
   ]
  },
  {
   "cell_type": "code",
   "execution_count": 101,
   "metadata": {
    "collapsed": false
   },
   "outputs": [],
   "source": [
    "hl1 = Hardlocation(np.random.randint(CRANGE, size=DIMENSIONS))"
   ]
  },
  {
   "cell_type": "code",
   "execution_count": 103,
   "metadata": {
    "collapsed": false
   },
   "outputs": [],
   "source": [
    "ReadHardLocation = read(hl1, MS)"
   ]
  },
  {
   "cell_type": "code",
   "execution_count": 112,
   "metadata": {
    "collapsed": false
   },
   "outputs": [],
   "source": [
    "write(hl1, MS)"
   ]
  },
  {
   "cell_type": "code",
   "execution_count": null,
   "metadata": {
    "collapsed": false
   },
   "outputs": [],
   "source": []
  },
  {
   "cell_type": "code",
   "execution_count": null,
   "metadata": {
    "collapsed": false
   },
   "outputs": [],
   "source": [
    "addToWrite = Hardlocation(np.random.randint(CRANGE, size=DIMENSIONS))\n",
    "write(addToWrite)"
   ]
  },
  {
   "cell_type": "code",
   "execution_count": null,
   "metadata": {
    "collapsed": false
   },
   "outputs": [],
   "source": [
    "ds = []\n",
    "for HL in MS.allHL:\n",
    "    dd = MS.allHL[600].distance(HL)\n",
    "    if dd < 3875:\n",
    "        ds.append(dd)"
   ]
  },
  {
   "cell_type": "code",
   "execution_count": null,
   "metadata": {
    "collapsed": false
   },
   "outputs": [],
   "source": [
    "addToRead = Hardlocation(np.random.randint(CRANGE, size=DIMENSIONS))\n",
    "#print(addToRead)\n",
    "getNeighbors(addToRead, MS)"
   ]
  },
  {
   "cell_type": "code",
   "execution_count": null,
   "metadata": {
    "collapsed": false
   },
   "outputs": [],
   "source": []
  },
  {
   "cell_type": "code",
   "execution_count": 82,
   "metadata": {
    "collapsed": false
   },
   "outputs": [
    {
     "data": {
      "text/plain": [
       "[0, 0, 0, 0, 0, 0, 0, 0, 0, 0, 0, 0, 0, 0, 0, 0]"
      ]
     },
     "execution_count": 82,
     "metadata": {},
     "output_type": "execute_result"
    }
   ],
   "source": [
    "a = [0]*CRANGE\n",
    "a"
   ]
  },
  {
   "cell_type": "code",
   "execution_count": null,
   "metadata": {
    "collapsed": true
   },
   "outputs": [],
   "source": []
  }
 ],
 "metadata": {
  "kernelspec": {
   "display_name": "Python 3",
   "language": "python",
   "name": "python3"
  },
  "language_info": {
   "codemirror_mode": {
    "name": "ipython",
    "version": 3
   },
   "file_extension": ".py",
   "mimetype": "text/x-python",
   "name": "python",
   "nbconvert_exporter": "python",
   "pygments_lexer": "ipython3",
   "version": "3.5.1"
  }
 },
 "nbformat": 4,
 "nbformat_minor": 0
}
